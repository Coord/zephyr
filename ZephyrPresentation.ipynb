{
 "cells": [
  {
   "cell_type": "markdown",
   "metadata": {},
   "source": [
    "# Zephyr - \n",
    "## A cool breeze nudging those who can help toward those in need"
   ]
  },
  {
   "cell_type": "markdown",
   "metadata": {},
   "source": [
    "##### Note: this notebook is built out of order for ease of presentation!\n",
    "\n",
    "- To run it yourself start at the \"CODE\" section and run all the cells from that point down.\n",
    "- Then run the presentation from the top.\n",
    "\n",
    "##### Note: you will need to provide your own keys in the hidden \"Credentials\" cell\n",
    "\n"
   ]
  },
  {
   "cell_type": "markdown",
   "metadata": {},
   "source": [
    "![Architecture](images/ArchitectureRev1.png)"
   ]
  },
  {
   "cell_type": "code",
   "execution_count": 2,
   "metadata": {
    "collapsed": false
   },
   "outputs": [],
   "source": [
    "'''Here is a pseudocode example of our application's primary function:'''\n",
    "\n",
    "def main():\n",
    "    ben = \"benaffleck\"\n",
    "    tweet = get_tweet(ben)\n",
    "    weather = get_weather(tweet['location'])\n",
    "    gloom = risk_score(tweet['text'], weather)\n",
    "    \n",
    "    if gloom > 4:\n",
    "        matt = find_friend(ben)\n",
    "        get_promotion(matt, weather)\n",
    "        send_help(ben, matt)"
   ]
  },
  {
   "cell_type": "markdown",
   "metadata": {
    "collapsed": true
   },
   "source": [
    "# Live Demo"
   ]
  },
  {
   "cell_type": "code",
   "execution_count": 89,
   "metadata": {
    "collapsed": false
   },
   "outputs": [
    {
     "name": "stdout",
     "output_type": "stream",
     "text": [
      "Ben tweets in the morning: RT @justiceleaguewb: Justice for all. #JusticeLeague in theaters November 17. https://t.co/p01PMDzAsM\n",
      "\n",
      "Matt tweets: RT @RealHughJackman: The race to #operationchange is on. Follow clues @operationchange and you may win a trip around the world. Game on!\n",
      "\n",
      "Then Ben tweets: I feel sad\n"
     ]
    }
   ],
   "source": [
    "'''\n",
    "Here are some (very) simplified tweets from Ben Affleck and Matt Damon \n",
    "on a recent (fictional) day in Seattle.\n",
    "\n",
    "(tweet text taken from real, live tweets the day of the competition)\n",
    "'''\n",
    "\n",
    "Ben1 = {'tweet': getTweets(\"benaffleck\")[0]['text'],\n",
    "      'location':\"111 S Jackson St, Seattle, WA 98104\",\n",
    "      'date':\"20170326\"\n",
    "      }\n",
    "\n",
    "Ben2 = {'tweet': 'I feel sad',\n",
    "      'location':\"111 S Jackson St, Seattle, WA 98104\",\n",
    "      'date':\"20170326\"\n",
    "      }\n",
    "\n",
    "Matt = {'tweet': getTweets(\"mattdamon_\")[0]['text'],\n",
    "      'location':\"111 S Jackson St, Seattle, WA 98104\",\n",
    "      'date':\"20170326\"\n",
    "      }\n",
    "\n",
    "print('Ben tweets in the morning: {}\\n\\nMatt tweets: {}\\n\\nThen Ben tweets: {}'\\\n",
    "      .format(Ben1['tweet'], Matt['tweet'], Ben2['tweet']))"
   ]
  },
  {
   "cell_type": "code",
   "execution_count": 90,
   "metadata": {
    "collapsed": false
   },
   "outputs": [
    {
     "name": "stdout",
     "output_type": "stream",
     "text": [
      "Matt: 1\n",
      "Ben in the morning: 4\n",
      "Ben later that day: 6\n"
     ]
    }
   ],
   "source": [
    "'''\n",
    "Our app calculates a running risk-score that uses \n",
    "tone analysis combined with current weather data \n",
    "to determine whether a user is likely to be depressed\n",
    "'''\n",
    "\n",
    "Ben1_risk = find_risk(Ben1['tweet'])\n",
    "Ben2_risk = find_risk(Ben2['tweet'])\n",
    "Matt_risk = find_risk(Matt['tweet'])\n",
    "\n",
    "mat_weather = historical_weather(Matt['location'], Matt['date'])\n",
    "mat_gloom = historical_gloom(matt_weather)\n",
    "\n",
    "ben_weather = historical_weather(Ben1['location'], Ben1['date'])\n",
    "ben_gloom = historical_gloom(ben_weather)\n",
    "\n",
    "matt_score = combined_risk(mat_gloom, matt_risk)\n",
    "ben1_score = combined_risk(ben_gloom, Ben1_risk)\n",
    "ben2_score = combined_risk(ben_gloom, Ben2_risk)\n",
    "\n",
    "print('Matt: {}\\nBen in the morning: {}\\nBen later that day: {}'.format(matt_score, ben1_score, ben2_score))"
   ]
  },
  {
   "cell_type": "markdown",
   "metadata": {},
   "source": [
    "## Alert: Ben's gloom score has risen above 4.\n",
    "## Ben Affleck is sad! Send help!\n",
    "![Sad Ben](https://github.com/Coord/zephyr/blob/master/resources/sad-ben-affleck.gif?raw=true”)"
   ]
  },
  {
   "cell_type": "code",
   "execution_count": null,
   "metadata": {
    "collapsed": false
   },
   "outputs": [],
   "source": [
    "sendPromotion('Matt Damon', \"<mattdamon's email>\", message)"
   ]
  },
  {
   "cell_type": "markdown",
   "metadata": {},
   "source": [
    "![Email](https://cdn.rawgit.com/Coord/zephyr/b8f3018b/images/email.png \"Email\")"
   ]
  },
  {
   "cell_type": "markdown",
   "metadata": {
    "collapsed": true
   },
   "source": [
    "## Thanks to project Zephyr, Matt recieves a promotion to encourage him to take Ben to the gym - a local and weather appropriate activity, specially chosen to lift Ben's mood!"
   ]
  },
  {
   "cell_type": "code",
   "execution_count": null,
   "metadata": {
    "collapsed": true
   },
   "outputs": [],
   "source": []
  },
  {
   "cell_type": "code",
   "execution_count": 3,
   "metadata": {
    "collapsed": false
   },
   "outputs": [
    {
     "data": {
      "text/plain": [
       "'End Presentation'"
      ]
     },
     "execution_count": 3,
     "metadata": {},
     "output_type": "execute_result"
    }
   ],
   "source": [
    "'''End Presentation'''"
   ]
  },
  {
   "cell_type": "code",
   "execution_count": null,
   "metadata": {
    "collapsed": true
   },
   "outputs": [],
   "source": []
  },
  {
   "cell_type": "code",
   "execution_count": null,
   "metadata": {
    "collapsed": true
   },
   "outputs": [],
   "source": []
  },
  {
   "cell_type": "markdown",
   "metadata": {},
   "source": [
    "# Code"
   ]
  },
  {
   "cell_type": "code",
   "execution_count": 19,
   "metadata": {
    "collapsed": false
   },
   "outputs": [
    {
     "name": "stdout",
     "output_type": "stream",
     "text": [
      "Collecting twython\n",
      "  Using cached twython-3.4.0.tar.gz\n",
      "Requirement already satisfied (use --upgrade to upgrade): requests>=2.1.0 in /usr/local/src/conda3_runtime.v7/4.1.1/lib/python3.5/site-packages (from twython)\n",
      "Collecting requests_oauthlib>=0.4.0 (from twython)\n",
      "  Using cached requests_oauthlib-0.8.0-py2.py3-none-any.whl\n",
      "Collecting oauthlib>=0.6.2 (from requests_oauthlib>=0.4.0->twython)\n",
      "  Using cached oauthlib-2.0.2.tar.gz\n",
      "Building wheels for collected packages: twython, oauthlib\n",
      "  Running setup.py bdist_wheel for twython ... \u001b[?25l-\b \b\\\b \bdone\n",
      "\u001b[?25h  Stored in directory: /gpfs/fs01/user/sb19-bf3be4d4b96e6f-9552eb6e93f3/.cache/pip/wheels/48/e9/f5/a4c968725948c73f71df51a3c6759425358c1eda2dcf2031f4\n",
      "  Running setup.py bdist_wheel for oauthlib ... \u001b[?25l-\b \b\\\b \bdone\n",
      "\u001b[?25h  Stored in directory: /gpfs/fs01/user/sb19-bf3be4d4b96e6f-9552eb6e93f3/.cache/pip/wheels/84/98/7a/fba7268f61097bea6081cbe5480bc439b38975748ea7684fd5\n",
      "Successfully built twython oauthlib\n",
      "Installing collected packages: oauthlib, requests-oauthlib, twython\n",
      "Successfully installed oauthlib-2.0.2 requests-oauthlib-0.8.0 twython-3.4.0\n"
     ]
    }
   ],
   "source": [
    "!pip install --user twython"
   ]
  },
  {
   "cell_type": "code",
   "execution_count": 79,
   "metadata": {
    "collapsed": false
   },
   "outputs": [],
   "source": [
    "import numpy as np\n",
    "import requests\n",
    "import os\n",
    "from os.path import join, dirname\n",
    "import datetime\n",
    "\n",
    "from IPython.display import Image \n",
    "from IPython.core.display import HTML\n",
    "\n",
    "import json\n",
    "from watson_developer_cloud import ToneAnalyzerV3\n",
    "from twython import Twython\n",
    "\n",
    "import numpy as np\n",
    "from sklearn.metrics.pairwise import cosine_similarity\n"
   ]
  },
  {
   "cell_type": "code",
   "execution_count": 17,
   "metadata": {
    "collapsed": false
   },
   "outputs": [],
   "source": [
    "# @hidden_cell\n",
    "# Credentials *** HIDE THIS CELL ***\n",
    "WEATHER_USERNAME = \"<your bluemix Weather Company Data username>\"\n",
    "WEATHER_PASSWORD = \"<your bluemix Weather Company Data password>\"\n",
    "API_KEY = \"<your weather.com api key>\"\n",
    "TONE_USERNAME=\"<your bluemix tone analyzer username>\"\n",
    "TONE_PASSWORD=\"<your bluemix tone analyzer password>\"\n",
    "CONSUMER_KEY = \"<your twitter consumer key>\"\n",
    "CONSUMER_SECRET = \"<your twitter consumer secret key>\"\n",
    "ACCESS_KEY = \"<your twitter access key>\"\n",
    "ACCESS_SECRET = \"<your twitter access secret key>\""
   ]
  },
  {
   "cell_type": "markdown",
   "metadata": {},
   "source": [
    "# Promotional Email Messaging functions"
   ]
  },
  {
   "cell_type": "code",
   "execution_count": null,
   "metadata": {
    "collapsed": true
   },
   "outputs": [],
   "source": [
    "## Load promotion dataset from Object Storage\n"
   ]
  },
  {
   "cell_type": "code",
   "execution_count": null,
   "metadata": {
    "collapsed": true
   },
   "outputs": [],
   "source": [
    "from io import StringIO\n",
    "import requests\n",
    "import json\n",
    "import pandas as pd\n",
    "\n",
    "# @hidden_cell\n",
    "# This function accesses a file in your Object Storage. The definition contains your credentials.\n",
    "# You might want to remove those credentials before you share your notebook.\n",
    "def get_object_storage_file_with_credentials_7118af08c7254fa09a49d92b625a83e3(container, filename):\n",
    "    \"\"\"This functions returns a StringIO object containing\n",
    "    the file content from Bluemix Object Storage.\"\"\"\n",
    "\n",
    "    url1 = ''.join(['https://identity.open.softlayer.com', '/v3/auth/tokens'])\n",
    "    data = {'auth': {'identity': {'methods': ['password'],\n",
    "            'password': {'user': {'name': 'member_008b9f8e4271482355b49de00d49ff1d409d4465','domain': {'id': 'c6c444b793c54f1bb15f25afb62bf1e5'},\n",
    "            'password': 'Jh5&Jq^[]c}O}604'}}}}}\n",
    "    headers1 = {'Content-Type': 'application/json'}\n",
    "    resp1 = requests.post(url=url1, data=json.dumps(data), headers=headers1)\n",
    "    resp1_body = resp1.json()\n",
    "    for e1 in resp1_body['token']['catalog']:\n",
    "        if(e1['type']=='object-store'):\n",
    "            for e2 in e1['endpoints']:\n",
    "                        if(e2['interface']=='public'and e2['region']=='dallas'):\n",
    "                            url2 = ''.join([e2['url'],'/', container, '/', filename])\n",
    "    s_subject_token = resp1.headers['x-subject-token']\n",
    "    headers2 = {'X-Auth-Token': s_subject_token, 'accept': 'application/json'}\n",
    "    resp2 = requests.get(url=url2, headers=headers2)\n",
    "    return StringIO(resp2.text)\n",
    "\n",
    "promotions = pd.read_csv(get_object_storage_file_with_credentials_7118af08c7254fa09a49d92b625a83e3('Weather', 'promotions.csv'))\n",
    "promotions.head()\n"
   ]
  },
  {
   "cell_type": "code",
   "execution_count": null,
   "metadata": {
    "collapsed": true
   },
   "outputs": [],
   "source": [
    "## Generate promotion based on weather"
   ]
  },
  {
   "cell_type": "code",
   "execution_count": null,
   "metadata": {
    "collapsed": true
   },
   "outputs": [],
   "source": [
    "import random\n",
    "\n",
    "indoorPromotions = promotions[promotions.weather == \"indoor\"][[\"promotion\"]].as_matrix()\n",
    "outdoorPromotions = promotions[promotions.weather == \"outdoor\"][[\"promotion\"]].as_matrix()\n",
    "\n",
    "def getPromotionMessage(niceWeather, userInCrisis, userFriend):\n",
    "    template = \"Congratulations {}! You have recieved a {} to enjoy with {}! Click here to redeem!\"\n",
    "    promotions = indoorPromotions if niceWeather else outdoorPromotions\n",
    "    promotion = random.choice(promotions)\n",
    "    return template.format(userFriend, promotion[0], userInCrisis)\n",
    "\n",
    "niceWeather = False\n",
    "userInCrisis = \"Ben Affleck\"\n",
    "userFriend = \"Matt Damon\"\n",
    "\n",
    "message = getPromotionMessage(niceWeather, userInCrisis, userFriend)\n",
    "message"
   ]
  },
  {
   "cell_type": "code",
   "execution_count": null,
   "metadata": {
    "collapsed": true
   },
   "outputs": [],
   "source": [
    "## Send promotion out to friend"
   ]
  },
  {
   "cell_type": "code",
   "execution_count": null,
   "metadata": {
    "collapsed": true
   },
   "outputs": [],
   "source": [
    "import smtplib\n",
    "from email.mime.text import MIMEText\n",
    "\n",
    "def sendPromotion(name, email, message):\n",
    "    sender = \"zephyr.mail.alert@gmail.com\"\n",
    "\n",
    "    msg = MIMEText(message, 'plain')\n",
    "    msg['From'] = sender\n",
    "    msg['To'] = email\n",
    "    msg['Subject'] = \"Share this coupon with your friend: {}\".format(name)\n",
    "    mail = msg.as_string()\n",
    "    \n",
    "    try:\n",
    "        server = smtplib.SMTP('smtp.gmail.com', 587)\n",
    "        server.starttls()\n",
    "        server.login(sender, \"shareapromotion\")    \n",
    "        server.sendmail(sender, email, mail)\n",
    "        server.quit()\n",
    "        print(\"Mail sent successfully!\") \n",
    "\n",
    "    except Exception as exc:\n",
    "        print(\"Failed to send mail\")    \n",
    "    \n",
    "friendName = \"Matt Damon\"\n",
    "friendEmail = \"zephyr.mail.alert@gmail.com\"\n",
    "\n",
    "sendPromotion(friendName, friendEmail, message)"
   ]
  },
  {
   "cell_type": "markdown",
   "metadata": {},
   "source": [
    "# Weather functions"
   ]
  },
  {
   "cell_type": "code",
   "execution_count": 4,
   "metadata": {
    "collapsed": true
   },
   "outputs": [],
   "source": [
    "def historical_weather(address, end_date, units='e'):\n",
    "    \"\"\"\n",
    "    Input: address, end date and units (strings)\n",
    "    Output: historical weather data (json)\n",
    "    Date format: 2017-03-25 -> '20170325'\n",
    "    \"\"\"\n",
    "    # Get latude and longitude coordinates for given address\n",
    "    payload = {'query': address,\n",
    "               'locationType': 'address',\n",
    "               'language': 'en-US'}\n",
    "    r = requests.get('https://' +\n",
    "                     WEATHER_USERNAME + ':' + WEATHER_PASSWORD +\n",
    "                     '@twcservice.mybluemix.net/api/weather/v3/location/search',\n",
    "                     params=payload)\n",
    "    lat = r.json()['location']['latitude'][0]\n",
    "    lon = r.json()['location']['longitude'][0]\n",
    "    # Find start_date one week earlier\n",
    "    end_dt = datetime.date(int(end_date[0:4]),\n",
    "                           int(end_date[4:6]),\n",
    "                           int(end_date[6:]))\n",
    "    td = datetime.timedelta(days=7)\n",
    "    start_dt = end_dt - td\n",
    "    year = str(start_dt.year)\n",
    "    month = str(start_dt.month)\n",
    "    if len(month) == 1:\n",
    "        month = '0' + month\n",
    "    day = str(start_dt.day)\n",
    "    if len(day) == 1:\n",
    "        day = '0' + day\n",
    "    start_date = (year + month + day)\n",
    "    # Get 7 day forcast from latude and longitude coordinates\n",
    "    payload = {'units': 'e',\n",
    "               'startDate': start_date,\n",
    "               'endDate': end_date}\n",
    "    r = requests.get('http://api.weather.com/v1/geocode/' +\n",
    "                     str(lat) + '/' + str(lon) +\n",
    "                     '/observations/historical.json?apiKey=' +\n",
    "                     API_KEY, params=payload)\n",
    "    return r.json()\n",
    "\n",
    "\n",
    "def forecast_weather(address, units='e'):\n",
    "    \"\"\"\n",
    "    Input: address and units (strings)\n",
    "    Output: 7 day weather forecast (json)\n",
    "    Date format: 2017-03-25 -> '20170325'\n",
    "    \"\"\"\n",
    "    # Get latude and longitude coordinates for given address\n",
    "    payload = {'query': address, 'locationType': 'address', 'language': 'en-US'}\n",
    "    r = requests.get('https://' +\n",
    "                     WEATHER_USERNAME + ':' + WEATHER_PASSWORD +\n",
    "                     '@twcservice.mybluemix.net/api/weather/v3/location/search',\n",
    "                     params=payload)\n",
    "    lat = r.json()['location']['latitude'][0]\n",
    "    lon = r.json()['location']['longitude'][0]\n",
    "    # Get 7 day forcast from latude and longitude coordinates\n",
    "    payload = {'units': units}\n",
    "    r = requests.get('https://' +\n",
    "                     WEATHER_USERNAME + ':' + WEATHER_PASSWORD +\n",
    "                     '@twcservice.mybluemix.net/api/weather/v1/geocode/' +\n",
    "                     str(lat) + '/' + str(lon) +\n",
    "                     '/forecast/daily/7day.json',\n",
    "                     params=payload)\n",
    "    return r.json()\n",
    "\n",
    "\n",
    "def historical_gloom(hist_json):\n",
    "    \"\"\"\n",
    "    Input: historical weather information (json)\n",
    "    Output: bad weather score (float)\n",
    "    \"\"\"\n",
    "    mean_clouds = []\n",
    "    mean_precip = []\n",
    "    # count instances of overcast skies and precipitation\n",
    "    for ob in hist_json['observations']:\n",
    "        if ob['clds'] == 'OVC':\n",
    "            mean_clouds.append(1)\n",
    "        else:\n",
    "            mean_clouds.append(0)\n",
    "        if type(ob['precip_hrly']) == float and ob['precip_hrly'] > 0:\n",
    "            mean_precip.append(1)\n",
    "        else:\n",
    "            mean_precip.append(0)\n",
    "    # find gloom score and scale from 0 to 1\n",
    "    return (np.mean(mean_clouds) + (2 * np.mean(mean_precip))) / 3\n",
    "\n",
    "\n",
    "def outdoor_bool(forecast_json):\n",
    "    \"\"\"\n",
    "    Input: 7 day weather forecast (json)\n",
    "    Output: outside activity bool\n",
    "    \"\"\"\n",
    "    # get forecast for next day\n",
    "    forecast = forecast_json['forecasts'][1]['day']\n",
    "    # return bool for low prop precip and comfortable windchill\n",
    "    return forecast['pop'] <= 0.2 and forecast['wc'] >= 40\n"
   ]
  },
  {
   "cell_type": "markdown",
   "metadata": {},
   "source": [
    "# Tweet Tone functions"
   ]
  },
  {
   "cell_type": "code",
   "execution_count": 40,
   "metadata": {
    "collapsed": true
   },
   "outputs": [],
   "source": [
    "def find_risk(tweet, testing=False):\n",
    "    \n",
    "    tone_analyzer = ToneAnalyzerV3(username=TONE_USERNAME,\n",
    "                                    password=TONE_PASSWORD,\n",
    "                                    version='2016-05-19')\n",
    "\n",
    "    # crisis vector is determined experimentally by analzing tweets\n",
    "    # for sentiments that reflect when a person may be depressed\n",
    "    # or otherwise at risk\n",
    "\n",
    "    # ['Anger', 'Disgust', 'Fear', 'Joy', 'Sadness']\n",
    "    crisis = np.array([0.02, 0.04, 0.01, 0, 0.93]).reshape(1, -1)\n",
    "\n",
    "    json_response = tone_analyzer.tone(text=tweet)\n",
    "    tones_json = json_response['document_tone']['tone_categories'][0]['tones']\n",
    "    sentiment = np.array([d['score'] for d in tones_json]).reshape(1, -1)\n",
    "\n",
    "    # Find cosine similarity between sentiment of current tweet\n",
    "    # and crisis vector\n",
    "    risk = cosine_similarity(crisis, sentiment)[0][0]\n",
    "    risk = round(risk,4)\n",
    "    if testing == True:\n",
    "        emotion = 'Ang Disg Fear Joy Sad'\n",
    "        sentiment = [round(float(s),4) for s in sentiment[0]]\n",
    "        risk = 'emotion: {}\\ncrisis:  {}\\ntweet: {}\\nrisk score: {}'\\\n",
    "                .format(emotion, crisis[0], sentiment, risk)\n",
    "\n",
    "    return risk\n"
   ]
  },
  {
   "cell_type": "markdown",
   "metadata": {
    "collapsed": true
   },
   "source": [
    "# Combined Score"
   ]
  },
  {
   "cell_type": "code",
   "execution_count": 53,
   "metadata": {
    "collapsed": true
   },
   "outputs": [],
   "source": [
    "def combined_risk(weather_risk, tweet_risk):\n",
    "    combined = np.mean([weather_risk, 2*tweet_risk])\n",
    "    combined_score = int(round(combined * 5))\n",
    "    if combined_score == 0:\n",
    "        combined_score += 1\n",
    "    return combined_score\n",
    "\n"
   ]
  },
  {
   "cell_type": "markdown",
   "metadata": {},
   "source": [
    "# Get Live Tweets"
   ]
  },
  {
   "cell_type": "code",
   "execution_count": 21,
   "metadata": {
    "collapsed": true
   },
   "outputs": [],
   "source": [
    "def getTweets(name):\n",
    "    twitter = Twython(CONSUMER_KEY, CONSUMER_SECRET, ACCESS_KEY, ACCESS_SECRET)\n",
    "\n",
    "    # tweet extract method with the last list item as the max_id\n",
    "    user_timeline = twitter.get_user_timeline(screen_name=name,\n",
    "                                              count=10,\n",
    "                                              include_retweets=False)\n",
    "    return user_timeline\n"
   ]
  },
  {
   "cell_type": "code",
   "execution_count": null,
   "metadata": {
    "collapsed": true
   },
   "outputs": [],
   "source": []
  }
 ],
 "metadata": {
  "kernelspec": {
   "display_name": "Python 3",
   "language": "python",
   "name": "python3"
  },
  "language_info": {
   "codemirror_mode": {
    "name": "ipython",
    "version": 3
   },
   "file_extension": ".py",
   "mimetype": "text/x-python",
   "name": "python",
   "nbconvert_exporter": "python",
   "pygments_lexer": "ipython3",
   "version": "3.5.2"
  }
 },
 "nbformat": 4,
 "nbformat_minor": 0
}
