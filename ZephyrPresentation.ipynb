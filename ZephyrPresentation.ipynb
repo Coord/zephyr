{
    "nbformat_minor": 0, 
    "cells": [
        {
            "cell_type": "markdown", 
            "metadata": {}, 
            "source": "# Zephyr - \n## A cool breeze nudging those who can help toward those in need"
        }, 
        {
            "cell_type": "markdown", 
            "metadata": {}, 
            "source": "##### Note: this notebook is built out of order for ease of presentation!\n\n- To run it yourself start at the \"CODE\" section and run all the cells from that point down.\n- Then run the presentation from the top.\n\n##### Note: you will need to provide your own keys in the hidden \"Credentials\" cell\n\n"
        }, 
        {
            "cell_type": "markdown", 
            "metadata": {}, 
            "source": "<img src = https://dl.dropboxusercontent.com/s/nrczftpxqz504yr/ArchitectureRev1.png width = 1200>"
        }, 
        {
            "cell_type": "code", 
            "metadata": {
                "collapsed": false
            }, 
            "source": "'''Here is a pseudocode example of our application's primary function:'''\n\ndef main():\n    ben = \"benaffleck\"\n    tweet = get_tweet(ben)\n    weather = get_weather(tweet['location'])\n    gloom = risk_score(tweet['text'], weather)\n    \n    if gloom > 4:\n        matt = find_friend(ben)\n        get_help(matt)\n        send_help(ben, matt)", 
            "execution_count": 2, 
            "outputs": []
        }, 
        {
            "cell_type": "markdown", 
            "metadata": {
                "collapsed": true
            }, 
            "source": "# Live Demo"
        }, 
        {
            "cell_type": "code", 
            "metadata": {
                "collapsed": false
            }, 
            "source": "'''\nHere are some (very) simplified tweets from Ben Affleck and Matt Damon \non a recent (fictional) day in Seattle.\n\n(tweet text taken from real, live tweets the day of the competition \n. . . except for the one where Ben says he feels sad)\n'''\n\nBen1 = {'tweet': getTweets(\"benaffleck\")[0]['text'],\n      'location':\"111 S Jackson St, Seattle, WA 98104\",\n      'date':\"20170326\"\n      }\n\nBen2 = {'tweet': 'I feel sad',\n      'location':\"111 S Jackson St, Seattle, WA 98104\",\n      'date':\"20170326\"\n      }\n\nMatt = {'tweet': getTweets(\"mattdamon_\")[0]['text'],\n      'location':\"111 S Jackson St, Seattle, WA 98104\",\n      'date':\"20170326\"\n      }\n\nprint('Ben tweets in the morning: {}\\n\\nMatt tweets: {}\\n\\nThen Ben tweets: {}'\\\n      .format(Ben1['tweet'], Matt['tweet'], Ben2['tweet']))", 
            "execution_count": 89, 
            "outputs": [
                {
                    "name": "stdout", 
                    "output_type": "stream", 
                    "text": "Ben tweets in the morning: RT @justiceleaguewb: Justice for all. #JusticeLeague in theaters\u00a0November 17. https://t.co/p01PMDzAsM\n\nMatt tweets: RT @RealHughJackman: The race to #operationchange is on. Follow clues @operationchange and you may win a trip around the world. Game on!\n\nThen Ben tweets: I feel sad\n"
                }
            ]
        }, 
        {
            "cell_type": "code", 
            "metadata": {
                "collapsed": false
            }, 
            "source": "'''\nOur app calculates a running risk-score that uses \ntone analysis combined with current weather data \nto determine whether a user is likely to be depressed\n'''\n\nBen1_risk = find_risk(Ben1['tweet'])\nBen2_risk = find_risk(Ben2['tweet'])\nMatt_risk = find_risk(Matt['tweet'])\n\nmat_weather = historical_weather(Matt['location'], Matt['date'])\nmat_gloom = historical_gloom(matt_weather)\n\nben_weather = historical_weather(Ben1['location'], Ben1['date'])\nben_gloom = historical_gloom(ben_weather)\n\nmatt_score = combined_risk(mat_gloom, matt_risk)\nben1_score = combined_risk(ben_gloom, Ben1_risk)\nben2_score = combined_risk(ben_gloom, Ben2_risk)\n\nprint('Matt: {}\\nBen in the morning: {}\\nBen later that day: {}'.format(matt_score, ben1_score, ben2_score))", 
            "execution_count": 90, 
            "outputs": [
                {
                    "name": "stdout", 
                    "output_type": "stream", 
                    "text": "Matt: 1\nBen in the morning: 4\nBen later that day: 6\n"
                }
            ]
        }, 
        {
            "cell_type": "markdown", 
            "metadata": {}, 
            "source": "## Alert: Ben's gloom score has risen above 4.\n## Ben Affleck is sad! Send help!\n![Sad Ben](https://github.com/Coord/zephyr/blob/master/resources/sad-ben-affleck.gif?raw=true\u201d)"
        }, 
        {
            "cell_type": "code", 
            "metadata": {
                "collapsed": false
            }, 
            "source": "'''\nSee code section to see how promotion is actually sent\n'''\n\nsendPromotion('Matt Damon', \"<mattdamon's email>\", message)", 
            "execution_count": null, 
            "outputs": []
        }, 
        {
            "cell_type": "markdown", 
            "metadata": {}, 
            "source": "![Email](https://cdn.rawgit.com/Coord/zephyr/b8f3018b/images/email.png \"Email\")"
        }, 
        {
            "cell_type": "markdown", 
            "metadata": {
                "collapsed": true
            }, 
            "source": "## Thanks to project Zephyr, Matt recieves a promotion to encourage him to take Ben to the gym - a local and weather appropriate activity, specially chosen to lift Ben's mood!"
        }, 
        {
            "cell_type": "code", 
            "metadata": {
                "collapsed": false
            }, 
            "source": "'''End Presentation'''", 
            "execution_count": 3, 
            "outputs": [
                {
                    "execution_count": 3, 
                    "data": {
                        "text/plain": "'End Presentation'"
                    }, 
                    "metadata": {}, 
                    "output_type": "execute_result"
                }
            ]
        }, 
        {
            "cell_type": "markdown", 
            "metadata": {}, 
            "source": "# Code"
        }, 
        {
            "cell_type": "code", 
            "metadata": {
                "collapsed": false
            }, 
            "source": "!pip install --user twython", 
            "execution_count": 19, 
            "outputs": [
                {
                    "name": "stdout", 
                    "output_type": "stream", 
                    "text": "Collecting twython\n  Using cached twython-3.4.0.tar.gz\nRequirement already satisfied (use --upgrade to upgrade): requests>=2.1.0 in /usr/local/src/conda3_runtime.v7/4.1.1/lib/python3.5/site-packages (from twython)\nCollecting requests_oauthlib>=0.4.0 (from twython)\n  Using cached requests_oauthlib-0.8.0-py2.py3-none-any.whl\nCollecting oauthlib>=0.6.2 (from requests_oauthlib>=0.4.0->twython)\n  Using cached oauthlib-2.0.2.tar.gz\nBuilding wheels for collected packages: twython, oauthlib\n  Running setup.py bdist_wheel for twython ... \u001b[?25l-\b \b\\\b \bdone\n\u001b[?25h  Stored in directory: /gpfs/fs01/user/sb19-bf3be4d4b96e6f-9552eb6e93f3/.cache/pip/wheels/48/e9/f5/a4c968725948c73f71df51a3c6759425358c1eda2dcf2031f4\n  Running setup.py bdist_wheel for oauthlib ... \u001b[?25l-\b \b\\\b \bdone\n\u001b[?25h  Stored in directory: /gpfs/fs01/user/sb19-bf3be4d4b96e6f-9552eb6e93f3/.cache/pip/wheels/84/98/7a/fba7268f61097bea6081cbe5480bc439b38975748ea7684fd5\nSuccessfully built twython oauthlib\nInstalling collected packages: oauthlib, requests-oauthlib, twython\nSuccessfully installed oauthlib-2.0.2 requests-oauthlib-0.8.0 twython-3.4.0\n"
                }
            ]
        }, 
        {
            "cell_type": "code", 
            "metadata": {
                "collapsed": false
            }, 
            "source": "import numpy as np\nimport requests\nimport os\nfrom os.path import join, dirname\nimport datetime\n\nfrom IPython.display import Image \nfrom IPython.core.display import HTML\n\nimport json\nfrom watson_developer_cloud import ToneAnalyzerV3\nfrom twython import Twython\n\nimport numpy as np\nfrom sklearn.metrics.pairwise import cosine_similarity\n", 
            "execution_count": 79, 
            "outputs": []
        }, 
        {
            "cell_type": "code", 
            "metadata": {
                "collapsed": false
            }, 
            "source": "# @hidden_cell\n# Credentials *** HIDE THIS CELL ***\nWEATHER_USERNAME = \"<your bluemix Weather Company Data username>\"\nWEATHER_PASSWORD = \"<your bluemix Weather Company Data password>\"\nAPI_KEY = \"<your weather.com api key>\"\nTONE_USERNAME=\"<your bluemix tone analyzer username>\"\nTONE_PASSWORD=\"<your bluemix tone analyzer password>\"\nCONSUMER_KEY = \"<your twitter consumer key>\"\nCONSUMER_SECRET = \"<your twitter consumer secret key>\"\nACCESS_KEY = \"<your twitter access key>\"\nACCESS_SECRET = \"<your twitter access secret key>\"\nGMAIL_USERNAME = \"<your gmail username>\"\nGMAIL_PASSWORD = \"<your gmail password>\"", 
            "execution_count": 17, 
            "outputs": []
        }, 
        {
            "cell_type": "markdown", 
            "metadata": {}, 
            "source": "# Promotional Email Messaging functions"
        }, 
        {
            "cell_type": "code", 
            "metadata": {
                "collapsed": true
            }, 
            "source": "## Load promotion dataset from Object Storage\n", 
            "execution_count": null, 
            "outputs": []
        }, 
        {
            "cell_type": "code", 
            "metadata": {
                "collapsed": false
            }, 
            "source": "from io import StringIO\nimport requests\nimport json\nimport pandas as pd\n\n# @hidden_cell\n# This function accesses a file in your Object Storage. The definition contains your credentials.\n# You might want to remove those credentials before you share your notebook.\ndef get_object_storage_file_with_credentials_7118af08c7254fa09a49d92b625a83e3(container, filename):\n    \"\"\"This functions returns a StringIO object containing\n    the file content from Bluemix Object Storage.\"\"\"\n\n    url1 = ''.join(['https://identity.open.softlayer.com', '/v3/auth/tokens'])\n    data = {'auth': {'identity': {'methods': ['password'],\n            'password': {'user': {'name': 'member_008b9f8e4271482355b49de00d49ff1d409d4465','domain': {'id': 'c6c444b793c54f1bb15f25afb62bf1e5'},\n            'password': 'Jh5&Jq^[]c}O}604'}}}}}\n    headers1 = {'Content-Type': 'application/json'}\n    resp1 = requests.post(url=url1, data=json.dumps(data), headers=headers1)\n    resp1_body = resp1.json()\n    for e1 in resp1_body['token']['catalog']:\n        if(e1['type']=='object-store'):\n            for e2 in e1['endpoints']:\n                        if(e2['interface']=='public'and e2['region']=='dallas'):\n                            url2 = ''.join([e2['url'],'/', container, '/', filename])\n    s_subject_token = resp1.headers['x-subject-token']\n    headers2 = {'X-Auth-Token': s_subject_token, 'accept': 'application/json'}\n    resp2 = requests.get(url=url2, headers=headers2)\n    return StringIO(resp2.text)\n\npromotions = pd.read_csv(get_object_storage_file_with_credentials_7118af08c7254fa09a49d92b625a83e3('Weather', 'promotions.csv'))\npromotions.head()\n", 
            "execution_count": 3, 
            "outputs": [
                {
                    "metadata": {}, 
                    "data": {
                        "text/html": "<div>\n<table border=\"1\" class=\"dataframe\">\n  <thead>\n    <tr style=\"text-align: right;\">\n      <th></th>\n      <th>weather</th>\n      <th>promotion</th>\n      <th>address</th>\n    </tr>\n  </thead>\n  <tbody>\n    <tr>\n      <th>0</th>\n      <td>indoor</td>\n      <td>30% off tickets to Mesuem of Pop Culture</td>\n      <td>325 5th Avenue N, Seattle WA 98109\ufffd</td>\n    </tr>\n    <tr>\n      <th>1</th>\n      <td>indoor</td>\n      <td>$10 off of dinners for two at Wild Ginger Rest...</td>\n      <td>11020 NE 6th St #90, Bellevue, WA 98004</td>\n    </tr>\n    <tr>\n      <th>2</th>\n      <td>indoor</td>\n      <td>a free day pass to Gold's Gym</td>\n      <td>2720 4th Ave #115, Seattle, WA 98121</td>\n    </tr>\n    <tr>\n      <th>3</th>\n      <td>outdoor</td>\n      <td>30% off for tickets to the Wildwaves</td>\n      <td>36201 Enchanted Pkwy S, Federal Way, WA 98003</td>\n    </tr>\n    <tr>\n      <th>4</th>\n      <td>outdoor</td>\n      <td>a free guilded tours at the Arboretum</td>\n      <td>2300 Arboretum Dr E, Seattle, WA 98112</td>\n    </tr>\n  </tbody>\n</table>\n</div>", 
                        "text/plain": "   weather                                          promotion  \\\n0   indoor           30% off tickets to Mesuem of Pop Culture   \n1   indoor  $10 off of dinners for two at Wild Ginger Rest...   \n2   indoor                      a free day pass to Gold's Gym   \n3  outdoor               30% off for tickets to the Wildwaves   \n4  outdoor              a free guilded tours at the Arboretum   \n\n                                         address  \n0            325 5th Avenue N, Seattle WA 98109\ufffd  \n1        11020 NE 6th St #90, Bellevue, WA 98004  \n2           2720 4th Ave #115, Seattle, WA 98121  \n3  36201 Enchanted Pkwy S, Federal Way, WA 98003  \n4         2300 Arboretum Dr E, Seattle, WA 98112  "
                    }, 
                    "execution_count": 3, 
                    "output_type": "execute_result"
                }
            ]
        }, 
        {
            "cell_type": "code", 
            "metadata": {
                "collapsed": true
            }, 
            "source": "## Generate promotion based on weather", 
            "execution_count": null, 
            "outputs": []
        }, 
        {
            "cell_type": "code", 
            "metadata": {
                "collapsed": false
            }, 
            "source": "import random\n\nindoorPromotions = promotions[promotions.weather == \"indoor\"][[\"promotion\"]].as_matrix()\noutdoorPromotions = promotions[promotions.weather == \"outdoor\"][[\"promotion\"]].as_matrix()\n\ndef getPromotionMessage(niceWeather, userInCrisis, userFriend):\n    template = \"Congratulations {}! You have recieved a {} to enjoy with {}! Click here to redeem!\"\n    promotions = indoorPromotions if niceWeather else outdoorPromotions\n    promotion = random.choice(promotions)\n    return template.format(userFriend, promotion[0], userInCrisis)\n\nforecast = forecast_weather(\"111 S Jackson St, Seattle, WA 98104\")\nniceWeather = outdoor_bool(forecast)\nuserInCrisis = \"Ben Affleck\"\nuserFriend = \"Matt Damon\"\n\nmessage = getPromotionMessage(niceWeather, userInCrisis, userFriend)\nmessage", 
            "execution_count": 5, 
            "outputs": [
                {
                    "metadata": {}, 
                    "data": {
                        "text/plain": "\"Congratulations Matt Damon! You have recieved a $10 Fresh Bucks after you spend $20 at any Seattle Area Farmer's Market to enjoy with Ben Affleck! Click here to redeem!\""
                    }, 
                    "execution_count": 5, 
                    "output_type": "execute_result"
                }
            ]
        }, 
        {
            "cell_type": "code", 
            "metadata": {
                "collapsed": true
            }, 
            "source": "## Send promotion out to friend", 
            "execution_count": null, 
            "outputs": []
        }, 
        {
            "cell_type": "code", 
            "metadata": {
                "collapsed": true
            }, 
            "source": "import smtplib\nfrom email.mime.text import MIMEText\n\ndef sendPromotion(name, email, message):\n    sender = GMAIL_USERNAME # \"zephyr.mail.alert@gmail.com\"\n\n    msg = MIMEText(message, 'plain')\n    msg['From'] = sender\n    msg['To'] = email\n    msg['Subject'] = \"Share this coupon with your friend: {}\".format(name)\n    mail = msg.as_string()\n    \n    try:\n        server = smtplib.SMTP('smtp.gmail.com', 587)\n        server.starttls()\n        server.login(sender, GMAIL_PASSWORD)    \n        server.sendmail(sender, email, mail)\n        server.quit()\n        print(\"Mail sent successfully!\") \n\n    except Exception as exc:\n        print(\"Failed to send mail\")    \n    \nfriendName = \"Matt Damon\"\nfriendEmail = \"<mattdamon's email>\"\n\nsendPromotion(friendName, friendEmail, message)", 
            "execution_count": null, 
            "outputs": []
        }, 
        {
            "cell_type": "markdown", 
            "metadata": {}, 
            "source": "# Weather functions"
        }, 
        {
            "cell_type": "code", 
            "metadata": {
                "collapsed": true
            }, 
            "source": "def historical_weather(address, end_date, units='e'):\n    \"\"\"\n    Input: address, end date and units (strings)\n    Output: historical weather data (json)\n    Date format: 2017-03-25 -> '20170325'\n    \"\"\"\n    # Get latude and longitude coordinates for given address\n    payload = {'query': address,\n               'locationType': 'address',\n               'language': 'en-US'}\n    r = requests.get('https://' +\n                     WEATHER_USERNAME + ':' + WEATHER_PASSWORD +\n                     '@twcservice.mybluemix.net/api/weather/v3/location/search',\n                     params=payload)\n    lat = r.json()['location']['latitude'][0]\n    lon = r.json()['location']['longitude'][0]\n    # Find start_date one week earlier\n    end_dt = datetime.date(int(end_date[0:4]),\n                           int(end_date[4:6]),\n                           int(end_date[6:]))\n    td = datetime.timedelta(days=7)\n    start_dt = end_dt - td\n    year = str(start_dt.year)\n    month = str(start_dt.month)\n    if len(month) == 1:\n        month = '0' + month\n    day = str(start_dt.day)\n    if len(day) == 1:\n        day = '0' + day\n    start_date = (year + month + day)\n    # Get 7 day forcast from latude and longitude coordinates\n    payload = {'units': 'e',\n               'startDate': start_date,\n               'endDate': end_date}\n    r = requests.get('http://api.weather.com/v1/geocode/' +\n                     str(lat) + '/' + str(lon) +\n                     '/observations/historical.json?apiKey=' +\n                     API_KEY, params=payload)\n    return r.json()\n\n\ndef forecast_weather(address, units='e'):\n    \"\"\"\n    Input: address and units (strings)\n    Output: 7 day weather forecast (json)\n    Date format: 2017-03-25 -> '20170325'\n    \"\"\"\n    # Get latude and longitude coordinates for given address\n    payload = {'query': address, 'locationType': 'address', 'language': 'en-US'}\n    r = requests.get('https://' +\n                     WEATHER_USERNAME + ':' + WEATHER_PASSWORD +\n                     '@twcservice.mybluemix.net/api/weather/v3/location/search',\n                     params=payload)\n    lat = r.json()['location']['latitude'][0]\n    lon = r.json()['location']['longitude'][0]\n    # Get 7 day forcast from latude and longitude coordinates\n    payload = {'units': units}\n    r = requests.get('https://' +\n                     WEATHER_USERNAME + ':' + WEATHER_PASSWORD +\n                     '@twcservice.mybluemix.net/api/weather/v1/geocode/' +\n                     str(lat) + '/' + str(lon) +\n                     '/forecast/daily/7day.json',\n                     params=payload)\n    return r.json()\n\n\ndef historical_gloom(hist_json):\n    \"\"\"\n    Input: historical weather information (json)\n    Output: bad weather score (float)\n    \"\"\"\n    mean_clouds = []\n    mean_precip = []\n    # count instances of overcast skies and precipitation\n    for ob in hist_json['observations']:\n        if ob['clds'] == 'OVC':\n            mean_clouds.append(1)\n        else:\n            mean_clouds.append(0)\n        if type(ob['precip_hrly']) == float and ob['precip_hrly'] > 0:\n            mean_precip.append(1)\n        else:\n            mean_precip.append(0)\n    # find gloom score and scale from 0 to 1\n    return (np.mean(mean_clouds) + (2 * np.mean(mean_precip))) / 3\n\n\ndef outdoor_bool(forecast_json):\n    \"\"\"\n    Input: 7 day weather forecast (json)\n    Output: outside activity bool\n    \"\"\"\n    # get forecast for next day\n    forecast = forecast_json['forecasts'][1]['day']\n    # return bool for low prop precip and comfortable windchill\n    return forecast['pop'] <= 0.2 and forecast['wc'] >= 40\n", 
            "execution_count": 4, 
            "outputs": []
        }, 
        {
            "cell_type": "markdown", 
            "metadata": {}, 
            "source": "# Tweet Tone functions"
        }, 
        {
            "cell_type": "code", 
            "metadata": {
                "collapsed": true
            }, 
            "source": "def find_risk(tweet, testing=False):\n    \n    tone_analyzer = ToneAnalyzerV3(username=TONE_USERNAME,\n                                    password=TONE_PASSWORD,\n                                    version='2016-05-19')\n\n    # crisis vector is determined experimentally by analzing tweets\n    # for sentiments that reflect when a person may be depressed\n    # or otherwise at risk\n\n    # ['Anger', 'Disgust', 'Fear', 'Joy', 'Sadness']\n    crisis = np.array([0.02, 0.04, 0.01, 0, 0.93]).reshape(1, -1)\n\n    json_response = tone_analyzer.tone(text=tweet)\n    tones_json = json_response['document_tone']['tone_categories'][0]['tones']\n    sentiment = np.array([d['score'] for d in tones_json]).reshape(1, -1)\n\n    # Find cosine similarity between sentiment of current tweet\n    # and crisis vector\n    risk = cosine_similarity(crisis, sentiment)[0][0]\n    risk = round(risk,4)\n    if testing == True:\n        emotion = 'Ang Disg Fear Joy Sad'\n        sentiment = [round(float(s),4) for s in sentiment[0]]\n        risk = 'emotion: {}\\ncrisis:  {}\\ntweet: {}\\nrisk score: {}'\\\n                .format(emotion, crisis[0], sentiment, risk)\n\n    return risk\n", 
            "execution_count": 40, 
            "outputs": []
        }, 
        {
            "cell_type": "markdown", 
            "metadata": {
                "collapsed": true
            }, 
            "source": "# Combined Score"
        }, 
        {
            "cell_type": "code", 
            "metadata": {
                "collapsed": true
            }, 
            "source": "def combined_risk(weather_risk, tweet_risk):\n    combined = np.mean([weather_risk, 2*tweet_risk])\n    combined_score = int(round(combined * 5))\n    if combined_score == 0:\n        combined_score += 1\n    return combined_score\n\n", 
            "execution_count": 53, 
            "outputs": []
        }, 
        {
            "cell_type": "markdown", 
            "metadata": {}, 
            "source": "# Get Live Tweets"
        }, 
        {
            "cell_type": "code", 
            "metadata": {
                "collapsed": true
            }, 
            "source": "def getTweets(name):\n    twitter = Twython(CONSUMER_KEY, CONSUMER_SECRET, ACCESS_KEY, ACCESS_SECRET)\n\n    # tweet extract method with the last list item as the max_id\n    user_timeline = twitter.get_user_timeline(screen_name=name,\n                                              count=10,\n                                              include_retweets=False)\n    return user_timeline\n", 
            "execution_count": 21, 
            "outputs": []
        }
    ], 
    "metadata": {
        "kernelspec": {
            "display_name": "Python 3.5 (Experimental) with Spark 2.0", 
            "language": "python", 
            "name": "python3-spark20"
        }, 
        "language_info": {
            "codemirror_mode": {
                "version": 3, 
                "name": "ipython"
            }, 
            "version": "3.5.2", 
            "name": "python", 
            "file_extension": ".py", 
            "nbconvert_exporter": "python", 
            "mimetype": "text/x-python", 
            "pygments_lexer": "ipython3"
        }
    }, 
    "nbformat": 4
}